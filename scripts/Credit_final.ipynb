{
 "cells": [
  {
   "cell_type": "code",
   "execution_count": 1,
   "metadata": {},
   "outputs": [],
   "source": [
    "from utils import *\n",
    "from automatisation import *"
   ]
  },
  {
   "cell_type": "markdown",
   "metadata": {},
   "source": [
    "## Lecture des données"
   ]
  },
  {
   "cell_type": "code",
   "execution_count": 2,
   "metadata": {},
   "outputs": [
    {
     "data": {
      "text/html": [
       "<div>\n",
       "<style scoped>\n",
       "    .dataframe tbody tr th:only-of-type {\n",
       "        vertical-align: middle;\n",
       "    }\n",
       "\n",
       "    .dataframe tbody tr th {\n",
       "        vertical-align: top;\n",
       "    }\n",
       "\n",
       "    .dataframe thead th {\n",
       "        text-align: right;\n",
       "    }\n",
       "</style>\n",
       "<table border=\"1\" class=\"dataframe\">\n",
       "  <thead>\n",
       "    <tr style=\"text-align: right;\">\n",
       "      <th></th>\n",
       "      <th>Seniority</th>\n",
       "      <th>Home</th>\n",
       "      <th>Time</th>\n",
       "      <th>Age</th>\n",
       "      <th>Marital</th>\n",
       "      <th>Records</th>\n",
       "      <th>Job</th>\n",
       "      <th>Expenses</th>\n",
       "      <th>Income</th>\n",
       "      <th>Assets</th>\n",
       "      <th>Debt</th>\n",
       "      <th>Amount</th>\n",
       "      <th>Price</th>\n",
       "      <th>Status</th>\n",
       "    </tr>\n",
       "  </thead>\n",
       "  <tbody>\n",
       "    <tr>\n",
       "      <th>0</th>\n",
       "      <td>9.0</td>\n",
       "      <td>1.0</td>\n",
       "      <td>60.0</td>\n",
       "      <td>30.0</td>\n",
       "      <td>0.0</td>\n",
       "      <td>1.0</td>\n",
       "      <td>1.0</td>\n",
       "      <td>73.0</td>\n",
       "      <td>129.0</td>\n",
       "      <td>0.0</td>\n",
       "      <td>0.0</td>\n",
       "      <td>800.0</td>\n",
       "      <td>846.0</td>\n",
       "      <td>1</td>\n",
       "    </tr>\n",
       "    <tr>\n",
       "      <th>1</th>\n",
       "      <td>17.0</td>\n",
       "      <td>1.0</td>\n",
       "      <td>60.0</td>\n",
       "      <td>58.0</td>\n",
       "      <td>1.0</td>\n",
       "      <td>1.0</td>\n",
       "      <td>0.0</td>\n",
       "      <td>48.0</td>\n",
       "      <td>131.0</td>\n",
       "      <td>0.0</td>\n",
       "      <td>0.0</td>\n",
       "      <td>1000.0</td>\n",
       "      <td>1658.0</td>\n",
       "      <td>1</td>\n",
       "    </tr>\n",
       "    <tr>\n",
       "      <th>2</th>\n",
       "      <td>10.0</td>\n",
       "      <td>0.0</td>\n",
       "      <td>36.0</td>\n",
       "      <td>46.0</td>\n",
       "      <td>0.0</td>\n",
       "      <td>2.0</td>\n",
       "      <td>1.0</td>\n",
       "      <td>90.0</td>\n",
       "      <td>200.0</td>\n",
       "      <td>3000.0</td>\n",
       "      <td>0.0</td>\n",
       "      <td>2000.0</td>\n",
       "      <td>2985.0</td>\n",
       "      <td>0</td>\n",
       "    </tr>\n",
       "    <tr>\n",
       "      <th>3</th>\n",
       "      <td>0.0</td>\n",
       "      <td>1.0</td>\n",
       "      <td>60.0</td>\n",
       "      <td>24.0</td>\n",
       "      <td>1.0</td>\n",
       "      <td>1.0</td>\n",
       "      <td>0.0</td>\n",
       "      <td>63.0</td>\n",
       "      <td>182.0</td>\n",
       "      <td>2500.0</td>\n",
       "      <td>0.0</td>\n",
       "      <td>900.0</td>\n",
       "      <td>1325.0</td>\n",
       "      <td>1</td>\n",
       "    </tr>\n",
       "    <tr>\n",
       "      <th>4</th>\n",
       "      <td>0.0</td>\n",
       "      <td>1.0</td>\n",
       "      <td>36.0</td>\n",
       "      <td>26.0</td>\n",
       "      <td>1.0</td>\n",
       "      <td>1.0</td>\n",
       "      <td>0.0</td>\n",
       "      <td>46.0</td>\n",
       "      <td>107.0</td>\n",
       "      <td>0.0</td>\n",
       "      <td>0.0</td>\n",
       "      <td>310.0</td>\n",
       "      <td>910.0</td>\n",
       "      <td>1</td>\n",
       "    </tr>\n",
       "  </tbody>\n",
       "</table>\n",
       "</div>"
      ],
      "text/plain": [
       "   Seniority  Home  Time   Age  Marital  Records  Job  Expenses  Income  \\\n",
       "0        9.0   1.0  60.0  30.0      0.0      1.0  1.0      73.0   129.0   \n",
       "1       17.0   1.0  60.0  58.0      1.0      1.0  0.0      48.0   131.0   \n",
       "2       10.0   0.0  36.0  46.0      0.0      2.0  1.0      90.0   200.0   \n",
       "3        0.0   1.0  60.0  24.0      1.0      1.0  0.0      63.0   182.0   \n",
       "4        0.0   1.0  36.0  26.0      1.0      1.0  0.0      46.0   107.0   \n",
       "\n",
       "   Assets  Debt  Amount   Price  Status  \n",
       "0     0.0   0.0   800.0   846.0       1  \n",
       "1     0.0   0.0  1000.0  1658.0       1  \n",
       "2  3000.0   0.0  2000.0  2985.0       0  \n",
       "3  2500.0   0.0   900.0  1325.0       1  \n",
       "4     0.0   0.0   310.0   910.0       1  "
      ]
     },
     "execution_count": 2,
     "metadata": {},
     "output_type": "execute_result"
    }
   ],
   "source": [
    "credit_scoring_df = pd.read_csv('../data/ref_data.csv',delimiter=\";\")\n",
    "credit_scoring_df.head(5)"
   ]
  },
  {
   "cell_type": "code",
   "execution_count": 3,
   "metadata": {},
   "outputs": [],
   "source": [
    "df_np = credit_scoring_df.to_numpy()"
   ]
  },
  {
   "cell_type": "code",
   "execution_count": 4,
   "metadata": {},
   "outputs": [],
   "source": [
    "X = df_np[:, :-1]\n",
    "target = df_np[:,-1]"
   ]
  },
  {
   "cell_type": "code",
   "execution_count": 5,
   "metadata": {},
   "outputs": [
    {
     "name": "stdout",
     "output_type": "stream",
     "text": [
      "(X, y, features, scoring)\n"
     ]
    }
   ],
   "source": [
    "import inspect\n",
    "print(inspect.signature(run_all))"
   ]
  },
  {
   "cell_type": "code",
   "execution_count": 6,
   "metadata": {},
   "outputs": [
    {
     "name": "stdout",
     "output_type": "stream",
     "text": [
      "Help on function run_all in module automatisation:\n",
      "\n",
      "run_all(X, y, features, scoring)\n",
      "    # Run pipeline\n",
      "\n"
     ]
    }
   ],
   "source": [
    "help(run_all)"
   ]
  },
  {
   "cell_type": "code",
   "execution_count": 7,
   "metadata": {},
   "outputs": [
    {
     "name": "stdout",
     "output_type": "stream",
     "text": [
      "Start pipeline\n",
      "Step 1: Preprocessing\n",
      "Step 2: Get classifiers\n",
      "Step 3: Test classifiers\n",
      "\n",
      "Testing on Normal dataset\n",
      "Score for CART is: 0.656 +/- 0.032\n",
      "Score for ID3 is: 0.663 +/- 0.030\n",
      "Score for Stump is: 0.536 +/- 0.045\n",
      "Score for KNN is: 0.591 +/- 0.020\n",
      "Score for Bag is: 0.699 +/- 0.021\n",
      "Score for Ad is: 0.703 +/- 0.023\n",
      "Score for RF is: 0.690 +/- 0.020\n",
      "Score for ExtraTree is: 0.686 +/- 0.024\n",
      "Score for MLP_1 is: 0.665 +/- 0.068\n",
      "Score for MLP_2 is: 0.632 +/- 0.038\n",
      "\n",
      "Best model: Ad with score: 0.703\n",
      "\n",
      "Testing on Scaled dataset\n",
      "Score for CART is: 0.656 +/- 0.032\n",
      "Score for ID3 is: 0.663 +/- 0.029\n",
      "Score for Stump is: 0.536 +/- 0.045\n",
      "Score for KNN is: 0.680 +/- 0.021\n",
      "Score for Bag is: 0.698 +/- 0.022\n",
      "Score for Ad is: 0.703 +/- 0.023\n",
      "Score for RF is: 0.688 +/- 0.018\n",
      "Score for ExtraTree is: 0.686 +/- 0.024\n",
      "Score for MLP_1 is: 0.708 +/- 0.015\n",
      "Score for MLP_2 is: 0.713 +/- 0.028\n",
      "\n",
      "Best model: MLP_2 with score: 0.713\n",
      "\n",
      "Testing on PCA dataset\n",
      "Score for CART is: 0.559 +/- 0.024\n",
      "Score for ID3 is: 0.550 +/- 0.030\n",
      "Score for Stump is: 0.500 +/- 0.000\n",
      "Score for KNN is: 0.568 +/- 0.012\n",
      "Score for Bag is: 0.569 +/- 0.018\n",
      "Score for Ad is: 0.535 +/- 0.011\n",
      "Score for RF is: 0.568 +/- 0.025\n",
      "Score for ExtraTree is: 0.559 +/- 0.019\n",
      "Score for MLP_1 is: 0.523 +/- 0.009\n",
      "Score for MLP_2 is: 0.552 +/- 0.011\n",
      "\n",
      "Best model: Bag with score: 0.569\n",
      "\n",
      "Best overall model: MLP_2 on Scaled dataset with score: 0.713\n",
      "Step 4: Optimizing best model\n",
      "Optimizing MLP_2 with grid: {'hidden_layer_sizes': [(10,), (20,), (30,), (50, 20), (100, 50)], 'alpha': [0.0001, 0.001, 0.01, 0.1], 'learning_rate_init': [0.001, 0.01, 0.1]}\n",
      "Best parameters for MLP_2: {'alpha': 0.1, 'hidden_layer_sizes': (30,), 'learning_rate_init': 0.001}\n",
      "Step 5: Feature selection\n",
      "Step 6: Save optimized model\n",
      "Pipeline completed successfully.\n",
      "Best model: MLPClassifier(alpha=0.1, hidden_layer_sizes=(30,), random_state=1), Best score (make_scorer(moyenne_recall, response_method='predict')): [0.55503967 0.57148424 0.5823444  0.60369311 0.58103813 0.62791125\n",
      " 0.63429528 0.60977518 0.62738642 0.62798691 0.64772157 0.62752003\n",
      " 0.63274745]\n"
     ]
    },
    {
     "data": {
      "text/plain": [
       "(MLPClassifier(alpha=0.1, hidden_layer_sizes=(30,), random_state=1),\n",
       " array([0.55503967, 0.57148424, 0.5823444 , 0.60369311, 0.58103813,\n",
       "        0.62791125, 0.63429528, 0.60977518, 0.62738642, 0.62798691,\n",
       "        0.64772157, 0.62752003, 0.63274745]))"
      ]
     },
     "execution_count": 7,
     "metadata": {},
     "output_type": "execute_result"
    }
   ],
   "source": [
    "run_all(X, target,features=credit_scoring_df.columns[:-1] ,scoring=moyenne_recall)"
   ]
  },
  {
   "cell_type": "code",
   "execution_count": null,
   "metadata": {},
   "outputs": [],
   "source": []
  }
 ],
 "metadata": {
  "kernelspec": {
   "display_name": ".venv",
   "language": "python",
   "name": "python3"
  },
  "language_info": {
   "codemirror_mode": {
    "name": "ipython",
    "version": 3
   },
   "file_extension": ".py",
   "mimetype": "text/x-python",
   "name": "python",
   "nbconvert_exporter": "python",
   "pygments_lexer": "ipython3",
   "version": "3.11.9"
  }
 },
 "nbformat": 4,
 "nbformat_minor": 2
}
